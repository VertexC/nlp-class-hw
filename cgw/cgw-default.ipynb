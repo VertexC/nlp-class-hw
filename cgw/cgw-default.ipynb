{
 "cells": [
  {
   "cell_type": "markdown",
   "metadata": {},
   "source": [
    "# Homework: Competitive Grammar Writing"
   ]
  },
  {
   "cell_type": "code",
   "execution_count": 2,
   "metadata": {},
   "outputs": [],
   "source": [
    "from pcfg_parse_gen import Pcfg, PcfgGenerator, CkyParse\n",
    "import nltk\n",
    "\n",
    "def print_tree(tree_string):\n",
    "    tree_string = tree_string.strip()\n",
    "    tree = nltk.Tree.fromstring(tree_string)\n",
    "    tree.pretty_print()\n",
    "\n",
    "def draw_tree(tree_string):\n",
    "    tree_string = tree_string.strip()\n",
    "    tree = nltk.Tree.fromstring(tree_string)\n",
    "    tree.draw()"
   ]
  },
  {
   "cell_type": "markdown",
   "metadata": {},
   "source": [
    "## Parsing sentences with your grammar\n",
    "\n",
    "While you are developing your grammar you should parse with your grammar both example sentences and samples from your and other grammars."
   ]
  },
  {
   "cell_type": "code",
   "execution_count": 3,
   "metadata": {},
   "outputs": [
    {
     "name": "stderr",
     "output_type": "stream",
     "text": [
      "#reading grammar file: S1.gr\n",
      "#reading grammar file: S2.gr\n",
      "#reading grammar file: Vocab.gr\n"
     ]
    }
   ],
   "source": [
    "parse_gram = Pcfg([\"S1.gr\",\"S2.gr\",\"Vocab.gr\"])"
   ]
  },
  {
   "cell_type": "code",
   "execution_count": 4,
   "metadata": {},
   "outputs": [
    {
     "name": "stdout",
     "output_type": "stream",
     "text": [
      "(TOP (S2 (Misc (Misc (Misc (Proper Arthur) (_VerbT (VerbT is) )) (_Misc (Misc (Det the) (Nbar (Noun king) )) )) (_Misc (Misc .) )) ) )\n",
      "                        TOP                  \n",
      "                         |                    \n",
      "                         S2                  \n",
      "                         |                    \n",
      "                        Misc                 \n",
      "                     ____|________________    \n",
      "                   Misc                   |  \n",
      "         ___________|__________           |   \n",
      "        |                    _Misc        |  \n",
      "        |                      |          |   \n",
      "       Misc                   Misc        |  \n",
      "   _____|_____            _____|____      |   \n",
      "  |         _VerbT       |         Nbar _Misc\n",
      "  |           |          |          |     |   \n",
      "Proper      VerbT       Det        Noun  Misc\n",
      "  |           |          |          |     |   \n",
      "Arthur        is        the        king   .  \n",
      "\n"
     ]
    },
    {
     "name": "stderr",
     "output_type": "stream",
     "text": [
      "#parsing: ['Arthur', 'is', 'the', 'king', '.']\n"
     ]
    }
   ],
   "source": [
    "parser = CkyParse(parse_gram, beamsize=0.0001)\n",
    "trees = parser.parse_sentences([\"Arthur is the king .\"])\n",
    "for tree_string in trees:\n",
    "    print_tree(tree_string)"
   ]
  },
  {
   "cell_type": "code",
   "execution_count": 5,
   "metadata": {},
   "outputs": [
    {
     "name": "stdout",
     "output_type": "stream",
     "text": [
      "(TOP (S2 (Misc (Misc (Misc (Misc (Misc five) (_Misc (Misc (Misc strangers) (_Misc (Misc (Misc are) (_Prep (Prep at) )) )) )) (_Det (Det the) )) (_Misc (Misc (_Round Round) (_Table Table)) )) (_Misc (Misc .) )) ) )\n",
      "                                      TOP                           \n",
      "                                       |                             \n",
      "                                       S2                           \n",
      "                                       |                             \n",
      "                                      Misc                          \n",
      "                                   ____|_________________________    \n",
      "                                 Misc                            |  \n",
      "                       ___________|_________________             |   \n",
      "                     Misc                           |            |  \n",
      "                 _____|________________             |            |   \n",
      "               Misc                    |            |            |  \n",
      "  ______________|_____                 |            |            |   \n",
      " |                  _Misc              |            |            |  \n",
      " |                    |                |            |            |   \n",
      " |                   Misc              |            |            |  \n",
      " |        ____________|_____           |            |            |   \n",
      " |       |                _Misc        |            |            |  \n",
      " |       |                  |          |            |            |   \n",
      " |       |                 Misc        |          _Misc          |  \n",
      " |       |             _____|_____     |            |            |   \n",
      " |       |            |         _Prep _Det         Misc        _Misc\n",
      " |       |            |           |    |      ______|_____       |   \n",
      "Misc    Misc         Misc        Prep Det  _Round       _Table  Misc\n",
      " |       |            |           |    |     |            |      |   \n",
      "five strangers       are          at  the  Round        Table    .  \n",
      "\n"
     ]
    },
    {
     "name": "stderr",
     "output_type": "stream",
     "text": [
      "#parsing: ['five', 'strangers', 'are', 'at', 'the', 'Round', 'Table', '.']\n"
     ]
    }
   ],
   "source": [
    "trees = parser.parse_sentences([\"five strangers are at the Round Table .\"])\n",
    "for tree_string in trees:\n",
    "    print_tree(tree_string)"
   ]
  },
  {
   "cell_type": "markdown",
   "metadata": {},
   "source": [
    "Use `parse_file` to parse a file of sentences."
   ]
  },
  {
   "cell_type": "code",
   "execution_count": 6,
   "metadata": {},
   "outputs": [
    {
     "name": "stderr",
     "output_type": "stream",
     "text": [
      "#parsing: ['Arthur', 'is', 'the', 'king', '.']\n",
      "#parsing: ['Arthur', 'rides', 'the', 'horse', 'near', 'the', 'castle', '.']\n",
      "#parsing: ['riding', 'to', 'Camelot', 'is', 'hard', '.']\n",
      "#parsing: ['do', 'coconuts', 'speak', '?']\n",
      "#parsing: ['what', 'does', 'Arthur', 'ride', '?']\n",
      "#parsing: ['who', 'does', 'Arthur', 'suggest', 'she', 'carry', '?']\n",
      "#parsing: ['why', 'does', 'England', 'have', 'a', 'king', '?']\n",
      "#parsing: ['are', 'they', 'suggesting', 'Arthur', 'ride', 'to', 'Camelot', '?']\n",
      "#parsing: ['five', 'strangers', 'are', 'at', 'the', 'Round', 'Table', '.']\n",
      "#parsing: ['Guinevere', 'might', 'have', 'known', '.']\n",
      "#parsing: ['Guinevere', 'should', 'be', 'riding', 'with', 'Patsy', '.']\n",
      "#parsing: ['it', 'is', 'Sir', 'Lancelot', 'who', 'knows', 'Zoot', '!']\n",
      "#parsing: ['either', 'Arthur', 'knows', 'or', 'Patsy', 'does', '.']\n",
      "#parsing: ['neither', 'Sir', 'Lancelot', 'nor', 'Guinevere', 'will', 'speak', 'of', 'it', '.']\n",
      "#parsing: ['the', 'Holy', 'Grail', 'was', 'covered', 'by', 'a', 'yellow', 'fruit', '.']\n",
      "#parsing: ['Zoot', 'might', 'have', 'been', 'carried', 'by', 'a', 'swallow', '.']\n",
      "#parsing: ['Arthur', 'rode', 'to', 'Camelot', 'and', 'drank', 'from', 'his', 'chalice', '.']\n",
      "#parsing: ['they', 'migrate', 'precisely', 'because', 'they', 'know', 'they', 'will', 'grow', '.']\n",
      "#parsing: ['do', 'not', 'speak', '!']\n",
      "#parsing: ['Arthur', 'will', 'have', 'been', 'riding', 'for', 'eight', 'nights', '.']\n",
      "#parsing: ['Arthur', ',', 'sixty', 'inches', ',', 'is', 'a', 'tiny', 'king', '.']\n",
      "#parsing: ['Arthur', 'knows', 'Patsy', ',', 'the', 'trusty', 'servant', '.']\n",
      "#parsing: ['Arthur', 'and', 'Guinevere', 'migrate', 'frequently', '.']\n",
      "#parsing: ['he', 'knows', 'what', 'they', 'are', 'covering', 'with', 'that', 'story', '.']\n",
      "#parsing: ['Arthur', 'suggested', 'that', 'the', 'castle', 'be', 'carried', '.']\n",
      "#parsing: ['the', 'king', 'drank', 'to', 'the', 'castle', 'that', 'was', 'his', 'home', '.']\n"
     ]
    },
    {
     "name": "stdout",
     "output_type": "stream",
     "text": [
      "(TOP (S2 (Misc (Misc (Misc (Proper Arthur) (_VerbT (VerbT is) )) (_Misc (Misc (Det the) (Nbar (Noun king) )) )) (_Misc (Misc .) )) ) )\n",
      "(TOP (S2 (Misc (Misc (Misc (Misc (Proper Arthur) (_VerbT (VerbT rides) )) (_Misc (Misc (Misc (Det the) (Nbar (Noun horse) )) (_Prep (Prep near) )) )) (_Misc (Misc (Det the) (Nbar (Noun castle) )) )) (_Misc (Misc .) )) ) )\n",
      "(TOP (S2 (Misc (Misc (Misc (Misc (Misc (Misc riding) (_Misc (Misc to) )) (_Misc (Misc Camelot) )) (_VerbT (VerbT is) )) (_Misc (Misc hard) )) (_Misc (Misc .) )) ) )\n",
      "(TOP (S2 (Misc (Misc (Misc (Misc do) (_Misc (Misc coconuts) )) (_Misc (Misc speak) )) (_Misc (Misc ?) )) ) )\n",
      "(TOP (S2 (Misc (Misc (Misc (Misc (Misc what) (_Misc (Misc does) )) (_Proper (Proper Arthur) )) (_Misc (Misc ride) )) (_Misc (Misc ?) )) ) )\n",
      "(TOP (S2 (Misc (Misc (Misc (Misc (Misc (Misc (Misc who) (_Misc (Misc does) )) (_Proper (Proper Arthur) )) (_Misc (Misc suggest) )) (_Misc (Misc she) )) (_Misc (Misc carry) )) (_Misc (Misc ?) )) ) )\n",
      "(TOP (S2 (Misc (Misc (Misc (Misc (Misc (Misc why) (_Misc (Misc does) )) (_Misc (Misc England) )) (_Misc (Misc have) )) (_Misc (Misc (Det a) (Nbar (Noun king) )) )) (_Misc (Misc ?) )) ) )\n",
      "(TOP (S2 (Misc (Misc (Misc (Misc (Misc (Misc (Misc (Misc are) (_Misc (Misc they) )) (_Misc (Misc suggesting) )) (_Proper (Proper Arthur) )) (_Misc (Misc ride) )) (_Misc (Misc to) )) (_Misc (Misc Camelot) )) (_Misc (Misc ?) )) ) )\n",
      "(TOP (S2 (Misc (Misc (Misc (Misc (Misc five) (_Misc (Misc (Misc strangers) (_Misc (Misc (Misc are) (_Prep (Prep at) )) )) )) (_Det (Det the) )) (_Misc (Misc (_Round Round) (_Table Table)) )) (_Misc (Misc .) )) ) )\n",
      "(TOP (S2 (Misc (Misc (Misc (Misc (Proper Guinevere) (_Misc (Misc might) )) (_Misc (Misc have) )) (_Misc (Misc known) )) (_Misc (Misc .) )) ) )\n",
      "(TOP (S2 (Misc (Misc (Misc (Misc (Misc (Proper Guinevere) (_Misc (Misc should) )) (_Misc (Misc be) )) (_Misc (Misc riding) )) (_Misc (Misc (Prep with) (NP (Proper Patsy) )) )) (_Misc (Misc .) )) ) )\n",
      "(TOP (S2 (Misc (Misc (Misc (Misc (Misc (Misc (Misc it) (_VerbT (VerbT is) )) (_Misc (Misc (_Sir Sir) (_Lancelot Lancelot)) )) (_Misc (Misc who) )) (_Misc (Misc knows) )) (_Proper (Proper Zoot) )) (_Misc (Misc !) )) ) )\n",
      "(TOP (S2 (Misc (Misc (Misc (Misc (Misc (Misc (Misc either) (_Proper (Proper Arthur) )) (_Misc (Misc knows) )) (_Misc (Misc or) )) (_Proper (Proper Patsy) )) (_Misc (Misc does) )) (_Misc (Misc .) )) ) )\n",
      "(TOP (S2 (Misc (Misc (Misc (Misc (Misc (Misc (Misc (Misc neither) (_Misc (Misc (_Sir Sir) (_Lancelot Lancelot)) )) (_Misc (Misc nor) )) (_Misc (Misc (Proper Guinevere) (_Misc (Misc will) )) )) (_Misc (Misc speak) )) (_Prep (Prep of) )) (_Misc (Misc it) )) (_Misc (Misc .) )) ) )\n",
      "(TOP (S2 (Misc (Misc (Misc (Misc (Misc (Det the) (_Misc (Misc (Misc (_Holy Holy) (_Grail Grail)) (_Misc (Misc (Misc was) (_Misc (Misc (Misc covered) (_Prep (Prep by) )) )) )) )) (_Det (Det a) )) (_Misc (Misc yellow) )) (_Noun (Noun fruit) )) (_Misc (Misc .) )) ) )\n",
      "(TOP (S2 (Misc (Misc (Misc (Misc (Misc (Misc (Misc (Proper Zoot) (_Misc (Misc might) )) (_Misc (Misc have) )) (_Misc (Misc been) )) (_Misc (Misc carried) )) (_Prep (Prep by) )) (_Misc (Misc (Det a) (Nbar (Noun swallow) )) )) (_Misc (Misc .) )) ) )\n",
      "(TOP (S2 (Misc (Misc (Misc (Misc (Misc (Misc (Misc (Misc (Misc (Proper Arthur) (_Misc (Misc rode) )) (_Misc (Misc to) )) (_Misc (Misc Camelot) )) (_Misc (Misc and) )) (_Misc (Misc drank) )) (_Prep (Prep from) )) (_Misc (Misc his) )) (_Noun (Noun chalice) )) (_Misc (Misc .) )) ) )\n",
      "(TOP (S2 (Misc (Misc (Misc (Misc (Misc (Misc (Misc (Misc (Misc (Misc they) (_Misc (Misc migrate) )) (_Misc (Misc precisely) )) (_Misc (Misc because) )) (_Misc (Misc they) )) (_Misc (Misc know) )) (_Misc (Misc they) )) (_Misc (Misc will) )) (_Misc (Misc grow) )) (_Misc (Misc .) )) ) )\n",
      "(TOP (S2 (Misc (Misc (Misc (Misc do) (_Misc (Misc not) )) (_Misc (Misc speak) )) (_Misc (Misc !) )) ) )\n",
      "(TOP (S2 (Misc (Misc (Misc (Misc (Misc (Misc (Misc (Misc (Proper Arthur) (_Misc (Misc will) )) (_Misc (Misc have) )) (_Misc (Misc been) )) (_Misc (Misc riding) )) (_Prep (Prep for) )) (_Misc (Misc eight) )) (_Misc (Misc nights) )) (_Misc (Misc .) )) ) )\n",
      "(TOP (S2 (Misc (Misc (Misc (Misc (Misc (Misc (Misc (Misc (Proper Arthur) (_Misc (Misc ,) )) (_Misc (Misc sixty) )) (_Misc (Misc inches) )) (_Misc (Misc (Misc ,) (_VerbT (VerbT is) )) )) (_Det (Det a) )) (_Misc (Misc tiny) )) (_Noun (Noun king) )) (_Misc (Misc .) )) ) )\n",
      "(TOP (S2 (Misc (Misc (Misc (Misc (Misc (Misc (Misc (Proper Arthur) (_Misc (Misc knows) )) (_Proper (Proper Patsy) )) (_Misc (Misc ,) )) (_Det (Det the) )) (_Misc (Misc trusty) )) (_Noun (Noun servant) )) (_Misc (Misc .) )) ) )\n",
      "(TOP (S2 (Misc (Misc (Proper Arthur) (_Misc (Misc (Misc (Misc (Misc and) (_Proper (Proper Guinevere) )) (_Misc (Misc migrate) )) (_Misc (Misc frequently) )) )) (_Misc (Misc .) )) ) )\n",
      "(TOP (S2 (Misc (Misc (Misc he) (_Misc (Misc (Misc (Misc knows) (_Misc (Misc what) )) (_Misc (Misc (Misc (Misc they) (_Misc (Misc (Misc are) (_Misc (Misc (Misc covering) (_Prep (Prep with) )) )) )) (_Misc (Misc (Det that) (Nbar (Noun story) )) )) )) )) (_Misc (Misc .) )) ) )\n",
      "(TOP (S2 (Misc (Misc (Misc (Misc (Proper Arthur) (_Misc (Misc (Misc (Misc suggested) (_Det (Det that) )) (_Misc (Misc (Det the) (Nbar (Noun castle) )) )) )) (_Misc (Misc be) )) (_Misc (Misc carried) )) (_Misc (Misc .) )) ) )\n",
      "(TOP (S2 (Misc (Misc (Misc (Det the) (Nbar (Noun king) )) (_Misc (Misc (Misc (Misc (Misc (Misc drank) (_Misc (Misc to) )) (_Misc (Misc (Misc (Misc (Det the) (Nbar (Noun castle) )) (_Det (Det that) )) (_Misc (Misc was) )) )) (_Misc (Misc his) )) (_Noun (Noun home) )) )) (_Misc (Misc .) )) ) )\n",
      "(TOP (S2 (Misc (Misc (Misc (Misc (Misc (Misc (Misc when) (_Misc (Misc (Det the) (Nbar (Noun king) )) )) (_VerbT (VerbT drinks) )) (_Misc (Misc ,) )) (_Proper (Proper Patsy) )) (_VerbT (VerbT drinks) )) (_Misc (Misc .) )) ) )\n"
     ]
    },
    {
     "name": "stderr",
     "output_type": "stream",
     "text": [
      "#parsing: ['when', 'the', 'king', 'drinks', ',', 'Patsy', 'drinks', '.']\n"
     ]
    }
   ],
   "source": [
    "trees = parser.parse_file('example_sentences.txt')"
   ]
  },
  {
   "cell_type": "markdown",
   "metadata": {},
   "source": [
    "## Generating sentences with your grammar\n",
    "\n",
    "While you are developing your grammar you should generate sentences with your grammar\n",
    "to check what your grammar is doing. Try to write your grammars to that it will \n",
    "generate hard to parse sentences."
   ]
  },
  {
   "cell_type": "code",
   "execution_count": 7,
   "metadata": {},
   "outputs": [
    {
     "name": "stderr",
     "output_type": "stream",
     "text": [
      "#reading grammar file: S1.gr\n",
      "#reading grammar file: Vocab.gr\n"
     ]
    }
   ],
   "source": [
    "gen_gram = Pcfg([\"S1.gr\",\"Vocab.gr\"])"
   ]
  },
  {
   "cell_type": "code",
   "execution_count": 8,
   "metadata": {},
   "outputs": [
    {
     "name": "stdout",
     "output_type": "stream",
     "text": [
      "that husk carries the horse .\n",
      "another winter carries that fruit\n",
      "any pound has the coconut below every husk above every sovereign\n",
      "every horse has any servant across another fruit\n",
      "the castle drinks the corner\n",
      "the home has this weight .\n",
      "that sovereign near the defeater has no winter into the winter .\n",
      "any pound carries that land .\n",
      "a sun carries any husk\n",
      "any master has a story .\n",
      "that sun is this weight .\n",
      "that weight rides this coconut\n",
      "any sun rides each coconut .\n",
      "any pound covers the pound into no king .\n",
      "any weight carries Dingo\n",
      "each master rides no sun .\n",
      "each defeater has another king above that sovereign\n",
      "another swallow drinks each sun .\n",
      "another castle drinks that castle\n",
      "each defeater drinks the servant\n"
     ]
    }
   ],
   "source": [
    "gen = PcfgGenerator(gen_gram)\n",
    "for _ in range(20):\n",
    "    print(\" \".join(gen.generate()))"
   ]
  }
 ],
 "metadata": {
  "kernelspec": {
   "display_name": "Python 3",
   "language": "python",
   "name": "python3"
  },
  "language_info": {
   "codemirror_mode": {
    "name": "ipython",
    "version": 3
   },
   "file_extension": ".py",
   "mimetype": "text/x-python",
   "name": "python",
   "nbconvert_exporter": "python",
   "pygments_lexer": "ipython3",
   "version": "3.6.5"
  }
 },
 "nbformat": 4,
 "nbformat_minor": 2
}
