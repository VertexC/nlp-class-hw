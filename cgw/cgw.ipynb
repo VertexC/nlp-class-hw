{
 "cells": [
  {
   "cell_type": "markdown",
   "metadata": {},
   "source": [
    "# Homework: Competitive Grammar Writing"
   ]
  },
  {
   "cell_type": "code",
   "execution_count": 3,
   "metadata": {},
   "outputs": [],
   "source": [
    "from pcfg_parse_gen import Pcfg, PcfgGenerator, CkyParse"
   ]
  },
  {
   "cell_type": "markdown",
   "metadata": {},
   "source": [
    "## Parsing sentences with your grammar\n",
    "\n",
    "While you are developing your grammar you should parse with your grammar both example sentences and samples from your and other grammars."
   ]
  },
  {
   "cell_type": "code",
   "execution_count": 4,
   "metadata": {},
   "outputs": [
    {
     "name": "stderr",
     "output_type": "stream",
     "text": [
      "#reading grammar file: S1.gr\n",
      "#reading grammar file: S2.gr\n",
      "#reading grammar file: Vocab.gr\n"
     ]
    }
   ],
   "source": [
    "parse_gram = Pcfg([\"S1.gr\",\"S2.gr\",\"Vocab.gr\"])"
   ]
  },
  {
   "cell_type": "code",
   "execution_count": 5,
   "metadata": {},
   "outputs": [
    {
     "name": "stdout",
     "output_type": "stream",
     "text": [
      "(TOP (S2 (Misc (Proper Arthur) (_Misc (Misc (Misc (VerbT is) (_Misc (Misc (Det the) (Nbar (Noun king) )) )) (_Misc (Misc .) )) )) ) )\n",
      "(TOP (S2 (Misc (Misc (Proper Arthur) (_Misc (Misc (Misc (VerbT is) (_Misc (Misc not) )) (_Misc (Misc (Det the) (Nbar (Noun king) )) )) )) (_Misc (Misc .) )) ) )\n"
     ]
    },
    {
     "name": "stderr",
     "output_type": "stream",
     "text": [
      "#parsing: ['Arthur', 'is', 'the', 'king', '.']\n",
      "#parsing: ['Arthur', 'is', 'not', 'the', 'king', '.']\n",
      "#-cross entropy (bits/word): -10.061\n"
     ]
    }
   ],
   "source": [
    "parser = CkyParse(parse_gram, beamsize=0.0001)\n",
    "parser.parse_sentences([\"Arthur is the king .\", \"Arthur is not the king .\"])"
   ]
  },
  {
   "cell_type": "markdown",
   "metadata": {},
   "source": [
    "Use `parse_file` to parse a file of sentences."
   ]
  },
  {
   "cell_type": "code",
   "execution_count": 6,
   "metadata": {},
   "outputs": [
    {
     "name": "stdout",
     "output_type": "stream",
     "text": [
      "(TOP (S2 (_Noun (Noun (Noun (Proper Arthur) (_VerbT (VerbT is) )) (_Noun (Noun (Det the) (Nbar (Noun king) )) )) ) ) )\n",
      "(TOP (S2 (_Noun (Noun (Noun (Noun (Proper Arthur) (_VerbT (VerbT rides) )) (_Noun (Noun (Noun (Det the) (Nbar (Noun horse) )) (_Prep (Prep near) )) )) (_Noun (Noun (Det the) (Nbar (Noun castle) )) )) ) ) )\n",
      "(TOP (S2 (Misc (Misc (Misc (Misc (Misc riding) (_Misc (Misc to) )) (_Misc (Misc Camelot) )) (_VerbT (VerbT is) )) (_Misc (Misc hard) )) ) )\n",
      "(TOP (S2 (Misc (Misc (Misc do) (_Misc (Misc coconuts) )) (_Misc (Misc speak) )) ) )\n",
      "(TOP (S2 (Misc (Misc (Misc (Misc what) (_Misc (Misc does) )) (_Proper (Proper Arthur) )) (_Misc (Misc ride) )) ) )\n",
      "(TOP (S2 (Misc (Misc (Misc (Misc (Misc (Misc who) (_Misc (Misc does) )) (_Proper (Proper Arthur) )) (_Misc (Misc suggest) )) (_Misc (Misc she) )) (_Misc (Misc carry) )) ) )\n",
      "(TOP (S2 (_Noun (Noun (Noun (Noun (Noun (Misc why) (_Misc (Misc does) )) (_Misc (Misc England) )) (_Misc (Misc have) )) (_Noun (Noun (Det a) (Nbar (Noun king) )) )) ) ) )\n",
      "(TOP (S2 (Misc (Misc (Misc (Misc (Misc are) (_Misc (Misc (Misc (Misc they) (_Misc (Misc suggesting) )) (_Proper (Proper Arthur) )) )) (_Misc (Misc ride) )) (_Misc (Misc to) )) (_Misc (Misc Camelot) )) ) )\n",
      "(TOP (Misc five) (Misc strangers) (Misc are) (Misc at) (Misc the) (Misc Round) (Misc Table))\n",
      "(TOP (S2 (Misc (Misc (Misc (Proper Guinevere) (_Misc (Misc might) )) (_Misc (Misc have) )) (_Misc (Misc known) )) ) )\n",
      "(TOP (S2 (_Proper (Proper (Proper (Proper (Proper (Proper Guinevere) (_Misc (Misc should) )) (_Misc (Misc be) )) (_Misc (Misc riding) )) (_Proper (Proper (Prep with) (NP (Proper Patsy) )) )) ) ) )\n",
      "(TOP (S2 (_Proper (Proper (Misc it) (_Proper (Proper (VerbT is) (NP (Proper (Proper (Proper (Proper (_Sir Sir) (_Lancelot Lancelot)) (_Misc (Misc who) )) (_Misc (Misc knows) )) (_Proper (Proper Zoot) )) )) )) ) ) )\n",
      "(TOP (S2 (Misc (Misc (Misc either) (_Misc (Misc (Misc (Misc (Proper Arthur) (_Misc (Misc knows) )) (_Misc (Misc or) )) (_Proper (Proper Patsy) )) )) (_Misc (Misc does) )) ) )\n",
      "(TOP (S2 (Misc (Misc (Misc (Misc (Misc (Misc (Misc (Misc neither) (_Misc (Misc (_Sir Sir) (_Lancelot Lancelot)) )) (_Misc (Misc nor) )) (_Proper (Proper Guinevere) )) (_Misc (Misc will) )) (_Misc (Misc speak) )) (_Prep (Prep of) )) (_Misc (Misc it) )) ) )\n",
      "(TOP (S2 (_Noun (Noun (Noun (Noun (Noun (Det the) (Nbar (Noun (_Holy Holy) (_Grail Grail)) )) (_Misc (Misc was) )) (_Noun (Noun (Misc covered) (_Prep (Prep by) )) )) (_Noun (Noun (Det a) (Nbar (Noun (Misc yellow) (_Noun (Noun fruit) )) )) )) ) ) )\n",
      "(TOP (S2 (_Noun (Noun (Noun (Noun (Noun (Noun (Noun (Proper Zoot) (_Misc (Misc might) )) (_Misc (Misc have) )) (_Misc (Misc been) )) (_Misc (Misc carried) )) (_Prep (Prep by) )) (_Noun (Noun (Det a) (Nbar (Noun swallow) )) )) ) ) )\n",
      "(TOP (S2 (_Noun (Noun (Noun (Noun (Noun (Noun (Noun (Noun (Noun (Proper Arthur) (_Misc (Misc rode) )) (_Misc (Misc to) )) (_Misc (Misc Camelot) )) (_Misc (Misc and) )) (_Misc (Misc drank) )) (_Prep (Prep from) )) (_Misc (Misc his) )) (_Noun (Noun chalice) )) ) ) )\n",
      "(TOP (S2 (Misc (Misc (Misc (Misc (Misc (Misc (Misc (Misc (Misc they) (_Misc (Misc migrate) )) (_Misc (Misc precisely) )) (_Misc (Misc because) )) (_Misc (Misc they) )) (_Misc (Misc know) )) (_Misc (Misc they) )) (_Misc (Misc will) )) (_Misc (Misc grow) )) ) )\n",
      "(TOP (S2 (Misc (Misc (Misc do) (_Misc (Misc not) )) (_Misc (Misc speak) )) ) )\n",
      "(TOP (S2 (Misc (Misc (Misc (Misc (Misc (Misc (Misc (Proper Arthur) (_Misc (Misc will) )) (_Misc (Misc have) )) (_Misc (Misc been) )) (_Misc (Misc riding) )) (_Prep (Prep for) )) (_Misc (Misc eight) )) (_Misc (Misc nights) )) ) )\n",
      "(TOP (S2 (_Noun (Noun (Noun (Proper Arthur) (_Misc (Misc ,) )) (_Noun (Noun (Noun (Noun (Misc sixty) (_Misc (Misc inches) )) (_Misc (Misc ,) )) (_Noun (Noun (VerbT is) (_Noun (Noun (Det a) (Nbar (Noun (Misc tiny) (_Noun (Noun king) )) )) )) )) )) ) ) )\n",
      "(TOP (S2 (_Noun (Noun (Noun (Proper Arthur) (_Noun (Noun (Noun (Misc knows) (_Proper (Proper Patsy) )) (_Misc (Misc ,) )) )) (_Noun (Noun (Det the) (Nbar (Noun (Misc trusty) (_Noun (Noun servant) )) )) )) ) ) )\n",
      "(TOP (S2 (Misc (Misc (Proper Arthur) (_Misc (Misc (Misc (Misc and) (_Proper (Proper Guinevere) )) (_Misc (Misc migrate) )) )) (_Misc (Misc frequently) )) ) )\n",
      "(TOP (S2 (_Noun (Noun (Noun (Noun (Noun (Noun (Noun (Noun (Misc he) (_Misc (Misc knows) )) (_Misc (Misc what) )) (_Misc (Misc they) )) (_Misc (Misc are) )) (_Misc (Misc covering) )) (_Prep (Prep with) )) (_Noun (Noun (Det that) (Nbar (Noun story) )) )) ) ) )\n",
      "(TOP (S2 (Misc (Misc (Misc (Misc (Misc (Proper Arthur) (_Misc (Misc suggested) )) (_Det (Det that) )) (_Misc (Misc (Det the) (Nbar (Noun castle) )) )) (_Misc (Misc be) )) (_Misc (Misc carried) )) ) )\n",
      "(TOP (S2 (_Noun (Noun (Noun (Det the) (Nbar (Noun king) )) (_Noun (Noun (Noun (Noun (Noun (Misc drank) (_Misc (Misc to) )) (_Noun (Noun (Det the) (Nbar (Noun castle) )) )) (_Noun (Noun (Det that) (Nbar (Noun (Misc was) (_Misc (Misc his) )) )) )) (_Noun (Noun home) )) )) ) ) )\n",
      "(TOP (S2 (_VerbT (VerbT (VerbT (VerbT (VerbT (VerbT (Misc when) (_VerbT (VerbT (Det the) (Nbar (Noun king) )) )) (_VerbT (VerbT drinks) )) (_Misc (Misc ,) )) (NP (Proper Patsy) )) (_VerbT (VerbT drinks) )) ) ) )\n"
     ]
    },
    {
     "name": "stderr",
     "output_type": "stream",
     "text": [
      "#parsing: ['Arthur', 'is', 'the', 'king']\n",
      "#parsing: ['Arthur', 'rides', 'the', 'horse', 'near', 'the', 'castle']\n",
      "#parsing: ['riding', 'to', 'Camelot', 'is', 'hard']\n",
      "#parsing: ['do', 'coconuts', 'speak']\n",
      "#parsing: ['what', 'does', 'Arthur', 'ride']\n",
      "#parsing: ['who', 'does', 'Arthur', 'suggest', 'she', 'carry']\n",
      "#parsing: ['why', 'does', 'England', 'have', 'a', 'king']\n",
      "#parsing: ['are', 'they', 'suggesting', 'Arthur', 'ride', 'to', 'Camelot']\n",
      "#parsing: ['five', 'strangers', 'are', 'at', 'the', 'Round', 'Table']\n",
      "#No parses found for: five strangers are at the Round Table\n",
      "#parsing: ['Guinevere', 'might', 'have', 'known']\n",
      "#parsing: ['Guinevere', 'should', 'be', 'riding', 'with', 'Patsy']\n",
      "#parsing: ['it', 'is', 'Sir', 'Lancelot', 'who', 'knows', 'Zoot']\n",
      "#parsing: ['either', 'Arthur', 'knows', 'or', 'Patsy', 'does']\n",
      "#parsing: ['neither', 'Sir', 'Lancelot', 'nor', 'Guinevere', 'will', 'speak', 'of', 'it']\n",
      "#parsing: ['the', 'Holy', 'Grail', 'was', 'covered', 'by', 'a', 'yellow', 'fruit']\n",
      "#parsing: ['Zoot', 'might', 'have', 'been', 'carried', 'by', 'a', 'swallow']\n",
      "#parsing: ['Arthur', 'rode', 'to', 'Camelot', 'and', 'drank', 'from', 'his', 'chalice']\n",
      "#parsing: ['they', 'migrate', 'precisely', 'because', 'they', 'know', 'they', 'will', 'grow']\n",
      "#parsing: ['do', 'not', 'speak']\n",
      "#parsing: ['Arthur', 'will', 'have', 'been', 'riding', 'for', 'eight', 'nights']\n",
      "#parsing: ['Arthur', ',', 'sixty', 'inches', ',', 'is', 'a', 'tiny', 'king']\n",
      "#parsing: ['Arthur', 'knows', 'Patsy', ',', 'the', 'trusty', 'servant']\n",
      "#parsing: ['Arthur', 'and', 'Guinevere', 'migrate', 'frequently']\n",
      "#parsing: ['he', 'knows', 'what', 'they', 'are', 'covering', 'with', 'that', 'story']\n",
      "#parsing: ['Arthur', 'suggested', 'that', 'the', 'castle', 'be', 'carried']\n",
      "#parsing: ['the', 'king', 'drank', 'to', 'the', 'castle', 'that', 'was', 'his', 'home']\n",
      "#parsing: ['when', 'the', 'king', 'drinks', ',', 'Patsy', 'drinks']\n",
      "#-cross entropy (bits/word): -17.5772\n"
     ]
    }
   ],
   "source": [
    "parser.parse_file('example_sentences.txt')"
   ]
  },
  {
   "cell_type": "markdown",
   "metadata": {},
   "source": [
    "## Generating sentences with your grammar\n",
    "\n",
    "While you are developing your grammar you should generate sentences with your grammar\n",
    "to check what your grammar is doing. Try to write your grammars to that it will \n",
    "generate hard to parse sentences."
   ]
  },
  {
   "cell_type": "code",
   "execution_count": 11,
   "metadata": {},
   "outputs": [
    {
     "name": "stderr",
     "output_type": "stream",
     "text": [
      "#reading grammar file: S1.gr\n",
      "#reading grammar file: Vocab.gr\n"
     ]
    }
   ],
   "source": [
    "gen_gram = Pcfg([\"S1.gr\",\"Vocab.gr\"])"
   ]
  },
  {
   "cell_type": "code",
   "execution_count": 12,
   "metadata": {},
   "outputs": [
    {
     "name": "stdout",
     "output_type": "stream",
     "text": [
      "every chalice is any swallow\n",
      "the king covers the corner\n",
      "another land has a weight\n",
      "the master drinks the castle\n",
      "the king covers every corner .\n",
      "the king carries every fruit\n",
      "that coconut carries every sovereign .\n",
      "any swallow rides the land .\n",
      "each king drinks that story at another servant\n",
      "every master covers another sun\n",
      "the quest has every king .\n",
      "each master is no sun .\n",
      "this coconut rides no horse .\n",
      "no servant drinks any king below a winter\n",
      "no story carries each defeater\n",
      "no weight rides any fruit .\n",
      "this horse near the pound below another castle covers a pound .\n",
      "every corner has the pound .\n",
      "another quest is a king\n",
      "any chalice covers no defeater .\n"
     ]
    }
   ],
   "source": [
    "gen = PcfgGenerator(gen_gram)\n",
    "for _ in range(20):\n",
    "    print(\" \".join(gen.generate()))"
   ]
  }
 ],
 "metadata": {
  "kernelspec": {
   "display_name": "Python 3",
   "language": "python",
   "name": "python3"
  },
  "language_info": {
   "codemirror_mode": {
    "name": "ipython",
    "version": 3
   },
   "file_extension": ".py",
   "mimetype": "text/x-python",
   "name": "python",
   "nbconvert_exporter": "python",
   "pygments_lexer": "ipython3",
   "version": "3.7.0"
  }
 },
 "nbformat": 4,
 "nbformat_minor": 2
}
